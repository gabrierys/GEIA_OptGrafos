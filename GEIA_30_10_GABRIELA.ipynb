{
  "nbformat": 4,
  "nbformat_minor": 0,
  "metadata": {
    "colab": {
      "provenance": [],
      "toc_visible": true
    },
    "kernelspec": {
      "name": "python3",
      "display_name": "Python 3"
    },
    "language_info": {
      "name": "python"
    }
  },
  "cells": [
    {
      "cell_type": "markdown",
      "source": [
        "<img src=\"https://drive.google.com/uc?id=1SOzRTjUt7cuBJpSqoK90fcAiKBrnpUJo\" width=\"400\">\n",
        "<br>\n",
        "<b>\n",
        "<font size=\"6\" face=\"arial\" color=\"blue\">\n",
        "     Grupo de Estudos em Inteligência Artificial (GEIA)\n",
        "</font>\n",
        "</b>\n",
        "<br>\n",
        "<b>\n",
        "<font size=\"4\" face=\"arial\">\n",
        "    Grupo de Estudos em Otimização em Grafos - Prof. Me. Ricardo Carubbi\n",
        "</font>\n",
        "</b>"
      ],
      "metadata": {
        "id": "8uaGT5b-Y1xX"
      }
    },
    {
      "cell_type": "markdown",
      "source": [
        "Gabriela Ferreira - MBA em Ciência de Dados (Turma 8)"
      ],
      "metadata": {
        "id": "CEV1qruefw4x"
      }
    },
    {
      "cell_type": "markdown",
      "source": [
        "# Grau, Grau Médio e Distribuição de Grau\n"
      ],
      "metadata": {
        "id": "qaFGe8kNbaNA"
      }
    },
    {
      "cell_type": "markdown",
      "source": [
        "## 1. Grau\n",
        "- O **grau** de um nó em uma rede representa o número de conexões que ele possui.\n",
        "- Em uma rede não direcionada (onde as conexões não têm sentido), o grau de um nó $i$, denotado por $k_i$, pode ser calculado pela soma das conexões do nó usando uma **matriz de adjacência** $A$, onde $A_{ij} = 1$ se há uma ligação entre $i$ e $j$, e $A_{ij} = 0$ se não há.\n",
        "A fórmula é: $$k_i = \\sum_{j=1}^{n} A_{ij}$$\n",
        "- Em redes direcionadas (com sentido nas conexões), o grau é separado em **grau de entrada** $k_i^{\\text{in}}$, conexões que chegam, e **grau de saída** $k_i^{\\text{out}}$, conexões que saem.\n",
        "\n"
      ],
      "metadata": {
        "id": "0okkU9yj6cBi"
      }
    },
    {
      "cell_type": "markdown",
      "source": [
        "### 1.1 Exemplo de Grau"
      ],
      "metadata": {
        "id": "aIWDZaEo_IFC"
      }
    },
    {
      "cell_type": "code",
      "source": [
        "G = {\n",
        "    1: [2, 3],\n",
        "    2: [1, 3, 4],\n",
        "    3: [1, 2],\n",
        "    4: [2]\n",
        "}"
      ],
      "metadata": {
        "id": "Vfes6GBO-gAO"
      },
      "execution_count": 1,
      "outputs": []
    },
    {
      "cell_type": "markdown",
      "source": [
        "Nesse exemplo:\n",
        "\n",
        "* O nó 1 tem grau 2 (ligado aos nós 2 e 3).\n",
        "* O nó 2 tem grau 3 (ligado aos nós 1, 3 e 4).\n",
        "* O nó 3 tem grau 2 (ligado aos nós 1 e 2).\n",
        "* O nó 4 tem grau 1 (ligado ao nó 2).\n",
        "\n",
        "Em Python, podemos calcular o grau de cada nó usando uma lista de adjacência."
      ],
      "metadata": {
        "id": "-eglp0C1-rJT"
      }
    },
    {
      "cell_type": "code",
      "source": [
        "# Lista de adjacência para a rede\n",
        "G = {\n",
        "    1: [2, 3],\n",
        "    2: [1, 3, 4],\n",
        "    3: [1, 2],\n",
        "    4: [2]\n",
        "}\n",
        "\n",
        "# Calculando o grau de cada nó\n",
        "graus = {nodo: len(vizinhos) for nodo, vizinhos in G.items()}\n",
        "print(graus)"
      ],
      "metadata": {
        "colab": {
          "base_uri": "https://localhost:8080/"
        },
        "id": "a_l8H6Vi-zNN",
        "outputId": "09f956e6-b6db-4c48-8d27-2e2582e71a89"
      },
      "execution_count": 3,
      "outputs": [
        {
          "output_type": "stream",
          "name": "stdout",
          "text": [
            "{1: 2, 2: 3, 3: 2, 4: 1}\n"
          ]
        }
      ]
    },
    {
      "cell_type": "markdown",
      "source": [
        "## 2. Grau Médio\n",
        "- O **grau médio** $c$ de uma rede é a média dos graus de todos os nós, calculado como: $$c = \\frac{1}{n} \\sum_{i=1}^{n} k_i$$\n",
        "- Em redes não direcionadas, essa média pode ser simplificada para $c = \\frac{2m}{n}$, onde $m$ é o número total de conexões e $n$ é o número total de nós.\n",
        "- Em redes direcionadas, o grau médio de entrada é igual ao de saída, pois cada conexão \"entra\" em um nó e \"sai\" de outro.\n"
      ],
      "metadata": {
        "id": "aDeSDRg-7GQK"
      }
    },
    {
      "cell_type": "markdown",
      "source": [
        "### 2.1 Exemplo de Grau Médio\n",
        "\n",
        "Usando o mesmo grafo anterior, temos os graus dos nós como {1: 2, 2: 3, 3: 2, 4: 1}. Para calcular o grau médio:"
      ],
      "metadata": {
        "id": "53CxQAPD_K99"
      }
    },
    {
      "cell_type": "markdown",
      "source": [
        "$$\n",
        "c = \\frac{2 + 3 + 2 + 1}{4} = 2.0\n",
        "$$"
      ],
      "metadata": {
        "id": "CJ2sLw44_eXs"
      }
    },
    {
      "cell_type": "code",
      "source": [
        "# Para calcular o grau médio:\n",
        "grau_medio = sum(graus.values()) / len(graus)\n",
        "print(grau_medio)"
      ],
      "metadata": {
        "colab": {
          "base_uri": "https://localhost:8080/"
        },
        "id": "nFVL5Bbk_MLs",
        "outputId": "070dcfaf-a0b0-405f-fe54-05e82b092231"
      },
      "execution_count": 4,
      "outputs": [
        {
          "output_type": "stream",
          "name": "stdout",
          "text": [
            "2.0\n"
          ]
        }
      ]
    },
    {
      "cell_type": "markdown",
      "source": [
        "## 3. Distribuição de Grau\n",
        "- A **distribuição de grau** mostra a probabilidade de um nó ter um certo número de conexões (grau $k$).\n",
        "- Esta distribuição, denotada por $p_k$, representa a fração de nós com grau $k$ em uma rede, calculada pela razão entre o número de nós com grau $k$ e o número total de nós $n$. Em termos matemáticos, para uma rede com $N$ nós, a probabilidade de selecionar um nó com grau $k$ é $p_k = \\frac{N_k}{N}$.\n",
        "- Em redes reais, como a Internet, essa distribuição frequentemente exibe uma **cauda longa**: poucos nós (hubs) possuem um número alto de conexões, enquanto a maioria dos nós possui poucas. Esse comportamento é característico de redes **scale-free**.\n",
        "- A **sequência de graus** também é útil, representando o conjunto $ \\{k_1, k_2, k_3, \\dots\\}$ com os graus de todos os nós da rede.\n",
        "- Para uma rede com $n = 10$ nós e graus variados, onde um nó possui grau $0$, dois têm grau $1$, quatro têm grau $2$, dois têm grau $3$, e um possui grau $4$, temos a seguinte distribuição:\n",
        "$$\n",
        "p_0 = \\frac{1}{10}, \\quad p_1 = \\frac{2}{10}, \\quad p_2 = \\frac{4}{10}, \\quad p_3 = \\frac{2}{10}, \\quad p_4 = \\frac{1}{10}\n",
        "$$\n",
        "Essa distribuição nos informa a frequência com que diferentes graus aparecem na rede.\n"
      ],
      "metadata": {
        "id": "WrOEUwVT7P4g"
      }
    },
    {
      "cell_type": "markdown",
      "source": [
        "### 3.1 Exemplo de Distribuição de Grau\n",
        "\n",
        "No grafo anterior, temos:\n",
        "\n",
        "* 1 nó com grau 1.\n",
        "* 2 nós com grau 2.\n",
        "* 1 nó com grau 3.\n",
        "\n",
        "A distribuição de grau será:\n",
        "\n",
        "* $p_1 = \\frac{1}{4} = 0.25$\n",
        "* $p_2 = \\frac{2}{4} = 0.5$\n",
        "* $p_3 = \\frac{1}{4} = 0.25$\n",
        "\n",
        "Algoritmo para calcular a distribuição de grau:"
      ],
      "metadata": {
        "id": "lDYiE_aZAhjR"
      }
    },
    {
      "cell_type": "code",
      "source": [
        "from collections import Counter\n",
        "\n",
        "# Contando a ocorrência de cada grau\n",
        "contagem_graus = Counter(graus.values())\n",
        "# Calculando a fração de nós para cada grau\n",
        "distribuicao_grau = {grau: contagem / len(G) for grau, contagem in contagem_graus.items()}\n",
        "print(distribuicao_grau)"
      ],
      "metadata": {
        "colab": {
          "base_uri": "https://localhost:8080/"
        },
        "id": "mEAtIDSUAn0K",
        "outputId": "288f7b81-2095-453a-b38c-c16fbfc209cd"
      },
      "execution_count": 5,
      "outputs": [
        {
          "output_type": "stream",
          "name": "stdout",
          "text": [
            "{2: 0.5, 3: 0.25, 1: 0.25}\n"
          ]
        }
      ]
    },
    {
      "cell_type": "markdown",
      "source": [
        "### 3.2 Aplicações e Importância\n",
        "- A distribuição de grau ajuda a descrever características estruturais importantes das redes e influencia fenômenos como robustez (resiliência da rede a falhas) e propagação de informações ou vírus.\n",
        "- Em redes grandes, a distribuição de grau muitas vezes é representada graficamente, revelando uma **cauda longa** que indica a presença de nós com grau alto (hubs). Em redes reais, como a **Internet**, os histogramas de graus mostram que poucos nós têm uma conectividade muito alta, enquanto a maioria possui baixa conectividade. Essa assimetria é chamada de **distribuição assimétrica (right-skewed)**.\n",
        "\n",
        "- Em redes direcionadas, podemos também examinar separadamente a **distribuição de grau de entrada** e **distribuição de grau de saída**, revelando detalhes específicos sobre como as conexões fluem na rede. Para redes complexas, a distribuição conjunta de grau de entrada e saída oferece uma visão aprofundada, permitindo a identificação de correlações entre esses graus.\n"
      ],
      "metadata": {
        "id": "aZh3skwaAd5d"
      }
    },
    {
      "cell_type": "markdown",
      "source": [
        "## 4. Densidade e Esparsidade\n",
        "- A **densidade** de uma rede mede quão próximo a rede está de ser completamente conectada. Se a densidade é alta, muitos dos nós estão conectados; se é baixa, a rede é esparsa.\n",
        "- A densidade $\\rho$ pode ser calculada como:\n",
        "  $$\n",
        "  \\rho = \\frac{m}{\\binom{n}{2}} = \\frac{2m}{n(n-1)}\n",
        "  $$\n",
        "- Em redes esparsas, $\\rho$ tende a ser pequeno, indicando que poucas das conexões possíveis existem realmente na rede.\n"
      ],
      "metadata": {
        "id": "Uphv9P5U7sK7"
      }
    },
    {
      "cell_type": "markdown",
      "source": [
        "### 4.1 Exemplo de Densidade e Esparsidade\n",
        "\n",
        "No grafo anterior, temos \\( n = 4 \\) nós e 4 arestas (conexões). O número máximo de arestas seria:\n",
        "\n",
        "$$\n",
        "\\text{Máximo de arestas} = \\frac{4 \\times 3}{2} = 6\n",
        "$$\n",
        "\n",
        "Assim, a densidade da rede é:\n",
        "\n",
        "$$\n",
        "\\rho = \\frac{\\text{número de arestas}}{\\text{máximo de arestas}} = \\frac{4}{6} \\approx 0.67\n",
        "$$\n"
      ],
      "metadata": {
        "id": "UzCK5C9mChuM"
      }
    },
    {
      "cell_type": "code",
      "source": [
        "# Número de nós\n",
        "n = len(G)\n",
        "# Número de arestas (soma dos graus dividido por 2 para evitar duplicação)\n",
        "m = sum(len(vizinhos) for vizinhos in G.values()) / 2\n",
        "\n",
        "# Densidade\n",
        "densidade = m / (n * (n - 1) / 2)\n",
        "print(densidade)"
      ],
      "metadata": {
        "colab": {
          "base_uri": "https://localhost:8080/"
        },
        "id": "X6ru93IoCxEv",
        "outputId": "e53c8033-64b4-4462-b8a1-d5565a47764d"
      },
      "execution_count": 7,
      "outputs": [
        {
          "output_type": "stream",
          "name": "stdout",
          "text": [
            "0.6666666666666666\n"
          ]
        }
      ]
    },
    {
      "cell_type": "markdown",
      "source": [
        "# Referências"
      ],
      "metadata": {
        "id": "v4KoYAP8DcbI"
      }
    },
    {
      "cell_type": "markdown",
      "source": [
        "BARABÁSI, Albert-Lázsló. **Network science**. Cambridge: Cambridge University Press, 2016. <br>\n",
        "NEWMAN, M. **Networks**. [s.l.] Oxford University Press, 2018."
      ],
      "metadata": {
        "id": "v3xSlqROEgG4"
      }
    }
  ]
}